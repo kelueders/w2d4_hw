{
 "cells": [
  {
   "cell_type": "markdown",
   "metadata": {},
   "source": [
    "# User-Defined Functions & Scoping"
   ]
  },
  {
   "cell_type": "markdown",
   "metadata": {},
   "source": [
    "## Tasks Today:\n",
    "\n",
    "\n",
    "1) Functions <br>\n",
    " &nbsp;&nbsp;&nbsp;&nbsp; a) User-Defined vs. Built-In Functions <br>\n",
    " &nbsp;&nbsp;&nbsp;&nbsp; b) Accepting Parameters <br>\n",
    " &nbsp;&nbsp;&nbsp;&nbsp; c) Default Parameters <br>\n",
    " &nbsp;&nbsp;&nbsp;&nbsp; d) Making an Argument Optional <br>\n",
    " &nbsp;&nbsp;&nbsp;&nbsp; e) Keyword Arguments <br>\n",
    " &nbsp;&nbsp;&nbsp;&nbsp; f) Returning Values <br>\n",
    " &nbsp;&nbsp;&nbsp;&nbsp; g) *args <br>\n",
    " &nbsp;&nbsp;&nbsp;&nbsp; h) Docstring <br>\n",
    " &nbsp;&nbsp;&nbsp;&nbsp; i) Using a User Function in a Loop <br>\n",
    "2) Scope\n",
    "3) Creating more User-Defined functions "
   ]
  },
  {
   "cell_type": "markdown",
   "metadata": {},
   "source": [
    "\n",
    "## Functions"
   ]
  },
  {
   "cell_type": "markdown",
   "metadata": {},
   "source": [
    "##### User-Defined vs. Built-In Functions"
   ]
  },
  {
   "cell_type": "code",
   "execution_count": 1,
   "metadata": {},
   "outputs": [
    {
     "name": "stdout",
     "output_type": "stream",
     "text": [
      "hello\n",
      "hello\n"
     ]
    }
   ],
   "source": [
    "# built in function\n",
    "print(\"hello\")\n",
    "# len()\n",
    "# range()\n",
    "# min()\n",
    "# max()\n",
    "# abs()\n",
    "\n",
    "def say_hello():\n",
    "    print(\"hello\")\n",
    "    \n",
    "    \n",
    "# always need parentheses at the end of a function call    \n",
    "say_hello()"
   ]
  },
  {
   "cell_type": "markdown",
   "metadata": {},
   "source": [
    "##### Accepting Parameters"
   ]
  },
  {
   "cell_type": "code",
   "execution_count": 3,
   "metadata": {
    "scrolled": true
   },
   "outputs": [
    {
     "name": "stdout",
     "output_type": "stream",
     "text": [
      "hello, Roadhouse\n",
      "The beautiful dog scooted across the street\n"
     ]
    }
   ],
   "source": [
    "# elements passed into a function\n",
    "# variables to hold the place of items our function will act upon\n",
    "# order matters\n",
    "# a parameter can be of any object type (data type)\n",
    "# parameter when naming a function\n",
    "# argument when calling a function\n",
    "             \n",
    "            #parameter               \n",
    "def say_hello(username):\n",
    "    print(f\"hello, {username}\")\n",
    "\n",
    "          # argument\n",
    "say_hello(\"Roadhouse\")\n",
    "\n",
    "def make_sentence(noun, verb, adjective):\n",
    "    print(f\"The {adjective} {noun} {verb} across the street\")\n",
    "    \n",
    "make_sentence(\"dog\", \"scooted\", \"beautiful\")"
   ]
  },
  {
   "cell_type": "markdown",
   "metadata": {},
   "source": [
    "##### Default Parameters"
   ]
  },
  {
   "cell_type": "code",
   "execution_count": 4,
   "metadata": {},
   "outputs": [
    {
     "ename": "TypeError",
     "evalue": "agent_name() missing 1 required positional argument: 'last_name'",
     "output_type": "error",
     "traceback": [
      "\u001b[1;31m---------------------------------------------------------------------------\u001b[0m",
      "\u001b[1;31mTypeError\u001b[0m                                 Traceback (most recent call last)",
      "Cell \u001b[1;32mIn[4], line 4\u001b[0m\n\u001b[0;32m      2\u001b[0m \u001b[38;5;28;01mdef\u001b[39;00m \u001b[38;5;21magent_name\u001b[39m(first_name, last_name):\n\u001b[0;32m      3\u001b[0m     \u001b[38;5;28mprint\u001b[39m(\u001b[38;5;124mf\u001b[39m\u001b[38;5;124m\"\u001b[39m\u001b[38;5;124mThe name is \u001b[39m\u001b[38;5;132;01m{\u001b[39;00mlast_name\u001b[38;5;132;01m}\u001b[39;00m\u001b[38;5;124m .... \u001b[39m\u001b[38;5;132;01m{\u001b[39;00mfirst_name\u001b[38;5;132;01m}\u001b[39;00m\u001b[38;5;124m \u001b[39m\u001b[38;5;132;01m{\u001b[39;00mlast_name\u001b[38;5;132;01m}\u001b[39;00m\u001b[38;5;124m\"\u001b[39m)\n\u001b[1;32m----> 4\u001b[0m \u001b[43magent_name\u001b[49m\u001b[43m(\u001b[49m\u001b[38;5;124;43m'\u001b[39;49m\u001b[38;5;124;43mJames\u001b[39;49m\u001b[38;5;124;43m'\u001b[39;49m\u001b[43m)\u001b[49m\n",
      "\u001b[1;31mTypeError\u001b[0m: agent_name() missing 1 required positional argument: 'last_name'"
     ]
    }
   ],
   "source": [
    "# default parameters must always come after non-default parameters at all times forever and ever...or else\n",
    "def agent_name(first_name, last_name):\n",
    "    print(f\"The name is {last_name} .... {first_name} {last_name}\")\n",
    "agent_name('James')\n",
    "\n",
    "# will cause an error"
   ]
  },
  {
   "cell_type": "code",
   "execution_count": 5,
   "metadata": {},
   "outputs": [
    {
     "name": "stdout",
     "output_type": "stream",
     "text": [
      "The name is Bond .... James Bond\n"
     ]
    }
   ],
   "source": [
    "# default parameters must always come after non-default parameters at all times forever and ever...or else\n",
    "def agent_name(first_name, last_name=\"Bond\"):\n",
    "    print(f\"The name is {last_name} .... {first_name} {last_name}\")\n",
    "    \n",
    "agent_name('James')\n",
    "agent_name('Leroy', 'Jenkins')   # Jenkins will overwrite the default, must come after!!"
   ]
  },
  {
   "cell_type": "markdown",
   "metadata": {},
   "source": [
    "##### Making an Argument Optional"
   ]
  },
  {
   "cell_type": "code",
   "execution_count": 10,
   "metadata": {},
   "outputs": [
    {
     "name": "stdout",
     "output_type": "stream",
     "text": [
      "The horse's name is Mr.  Ed\n",
      "The horse's name is Bill the Pony\n",
      "The horse's name is Bob Seabiscuit Ed\n"
     ]
    }
   ],
   "source": [
    "def print_horse_name(first, middle = \"\", last = \"Ed\"):\n",
    "    print(f\"The horse's name is {first} {middle} {last}\")\n",
    "    \n",
    "print_horse_name(\"Mr.\")\n",
    "print_horse_name(\"Bill\", \"the\", \"Pony\")\n",
    "print_horse_name(\"Bob\", \"Seabiscuit\")"
   ]
  },
  {
   "cell_type": "markdown",
   "metadata": {},
   "source": [
    "##### Keyword Arguments"
   ]
  },
  {
   "cell_type": "code",
   "execution_count": 13,
   "metadata": {},
   "outputs": [
    {
     "name": "stdout",
     "output_type": "stream",
     "text": [
      "Wow there goes batman with their cool power of money and I am pretty sure their secret identity is Bruce Wayne\n"
     ]
    }
   ],
   "source": [
    "#keyword arguments must follow positional arugments\n",
    "def show_hero(name, secret_identity, power=\"flying\"):\n",
    "    return f\"Wow there goes {name} with their cool power of {power} and I am pretty sure their secret identity is {secret_identity}\"\n",
    "print(show_hero(power=\"money\", name=\"batman\", secret_identity=\"Bruce Wayne\"))\n",
    "\n",
    "# These will follow the same results of default"
   ]
  },
  {
   "cell_type": "code",
   "execution_count": 15,
   "metadata": {},
   "outputs": [
    {
     "name": "stdout",
     "output_type": "stream",
     "text": [
      "Here are some neat colors: orange, magenta, and blue.\n"
     ]
    }
   ],
   "source": [
    "# keyword arguments must follow regular arguments\n",
    "# Any argument with a “=“ needs to go behind arguments without “=“\n",
    "def print_colors(color1, color2, color3):\n",
    "    return f\"Here are some neat colors: {color1}, {color2}, and {color3}.\"\n",
    "\n",
    "# has to be in order if you aren't using keyword arguments, doesn't need to be if you are\n",
    "# using ALL keyword arguments\n",
    "print(print_colors(color3=\"blue\", color1=\"orange\", color2=\"magenta\"))\n",
    "\n",
    "print(print_colors(my_fav, color3='orange', color2=\"magenta\"))"
   ]
  },
  {
   "cell_type": "markdown",
   "metadata": {},
   "source": [
    "# Creating a start, stop, step function"
   ]
  },
  {
   "cell_type": "code",
   "execution_count": 16,
   "metadata": {
    "scrolled": true
   },
   "outputs": [
    {
     "name": "stdout",
     "output_type": "stream",
     "text": [
      "0\n",
      "1\n",
      "2\n",
      "3\n",
      "4\n",
      "5\n",
      "6\n",
      "7\n",
      "8\n",
      "9\n",
      "10\n",
      "11\n",
      "12\n",
      "13\n",
      "14\n",
      "15\n",
      "16\n",
      "17\n",
      "18\n",
      "19\n",
      "Hey great job, you're beautiful\n"
     ]
    }
   ],
   "source": [
    "def my_range(stop, start=0, step=1):\n",
    "    for i in range(start, stop, step):\n",
    "        print(i)        # be careful if you return too early it will stop your code\n",
    "    return \"Hey great job, you're beautiful\"\n",
    "\n",
    "print(my_range(20))\n",
    "    "
   ]
  },
  {
   "cell_type": "code",
   "execution_count": 17,
   "metadata": {},
   "outputs": [
    {
     "name": "stdout",
     "output_type": "stream",
     "text": [
      "([0, 1, 4, 9, 16, 25, 36, 49, 64, 81, 100, 121, 144, 169, 196, 225, 256, 289, 324, 361], \"Hey great job, you're beautiful\")\n"
     ]
    }
   ],
   "source": [
    "def my_range(stop, start=0, step=1):\n",
    "    squared_nums = []\n",
    "    for i in range(start, stop, step):\n",
    "        squared_nums.append(i**2)        # be careful if you return too early it will stop your code\n",
    "    return squared_nums, \"Hey great job, you're beautiful\"\n",
    "\n",
    "print(my_range(20))"
   ]
  },
  {
   "cell_type": "markdown",
   "metadata": {},
   "source": [
    "##### Returning Values"
   ]
  },
  {
   "cell_type": "code",
   "execution_count": 12,
   "metadata": {},
   "outputs": [
    {
     "name": "stdout",
     "output_type": "stream",
     "text": [
      "3\n"
     ]
    },
    {
     "data": {
      "text/plain": [
       "-2"
      ]
     },
     "execution_count": 12,
     "metadata": {},
     "output_type": "execute_result"
    }
   ],
   "source": [
    "def add_nums(num1, num2):\n",
    "    return num1 + num2\n",
    "\n",
    "added_nums = add_nums(1, 2)\n",
    "\n",
    "print(added_nums) # print will not create an output\n",
    "\n",
    "# you can store the output of this function inside a variable\n",
    "\n",
    "def multiple_nums(num2, num3):\n",
    "    return num2 * num3\n",
    "\n",
    "# multiple_nums(added_nums, 4)\n",
    "\n",
    "def subtract_nums(num1, num2):\n",
    "    return num1 - num2\n",
    "\n",
    "subtract_nums(multiple_nums(2, 4), add_nums(4, 6))"
   ]
  },
  {
   "cell_type": "code",
   "execution_count": 18,
   "metadata": {},
   "outputs": [
    {
     "data": {
      "text/plain": [
       "'No Bulbasaur, sad'"
      ]
     },
     "execution_count": 18,
     "metadata": {},
     "output_type": "execute_result"
    }
   ],
   "source": [
    "poke_list = [\"Charmander\", \"Squirtle\", \"Cyndaquil\", \"Chikorita\", \"Totodile\"]\n",
    "def find_a_bulbasaur(arr):    \n",
    "    for poke in arr:     # don't want to access global variable with a function\n",
    "        if poke == \"Bulbasaur\":\n",
    "            return \"Bulba Bulba\"\n",
    "    return \"No Bulbasaur, sad\"\n",
    "find_a_bulbasaur(poke_list)"
   ]
  },
  {
   "cell_type": "code",
   "execution_count": null,
   "metadata": {},
   "outputs": [],
   "source": [
    "def is_bulbasaur(string):\n",
    "    if string == \"Bulba Bulba\":\n",
    "        return \"You caught a Bulbasaur!\"\n",
    "    \n",
    "    return \"Oh! The Bulbasaur appeared to be caught...\"\n",
    "\n",
    "is_bulbasaur(find_a_bulbasaur(poke_list))"
   ]
  },
  {
   "cell_type": "markdown",
   "metadata": {},
   "source": [
    "##### *args / **kwargs (keyword arguments)"
   ]
  },
  {
   "cell_type": "code",
   "execution_count": 24,
   "metadata": {},
   "outputs": [
    {
     "name": "stdout",
     "output_type": "stream",
     "text": [
      "These are my positional arguments, Lamp, Speaker, Alex\n",
      "These are my args\n",
      "Cheeter\n",
      "Mega Man\n",
      "Mouse\n",
      "Monitor\n",
      "Bob Ross Drawing game\n",
      "These are my kwargs\n",
      "language python\n",
      "cohort Rangers\n",
      "time Very good\n",
      "weather hot\n"
     ]
    },
    {
     "data": {
      "text/plain": [
       "'that was a really nice time'"
      ]
     },
     "execution_count": 24,
     "metadata": {},
     "output_type": "execute_result"
    }
   ],
   "source": [
    "#*args, **kwargs\n",
    "# *args stands for arguments and will allow the function to take in any number of arguments\n",
    "# **kwargs stands for key word arguments and will allow the function to take in any number of keyword arguments\n",
    "# if other parameters are present, args and kwargs must go last\n",
    "\n",
    "def print_args(pos_arg1, pos_arg2, pos_name, *args, **kwargs):\n",
    "    print(f\"These are my positional arguments, {pos_arg1}, {pos_arg2}, {pos_name}\")\n",
    "#     print(f\"These are my args, {args}\") # creates a tuple\n",
    "    print(\"These are my args\")\n",
    "    for arg in args:\n",
    "        print(arg) # tuple\n",
    "    print(\"These are my kwargs\")\n",
    "    for key, value in kwargs.items():\n",
    "        print(key, value)\n",
    "    return \"that was a really nice time\"\n",
    "\n",
    "print_args(\"Lamp\", \"Speaker\", \"Alex\", \"Cheeter\", \"Mega Man\", \"Mouse\", \"Monitor\", \"Bob Ross Drawing game\", language=\"python\", cohort=\"Rangers\", time=\"Very good\", weather=\"hot\")\n"
   ]
  },
  {
   "cell_type": "markdown",
   "metadata": {},
   "source": [
    "##### Docstring"
   ]
  },
  {
   "cell_type": "code",
   "execution_count": 26,
   "metadata": {},
   "outputs": [
    {
     "name": "stdout",
     "output_type": "stream",
     "text": [
      "Alex\n",
      "Saraa\n",
      "Ed\n",
      "Hussain\n",
      "Gus\n",
      "Sam\n",
      "marc\n",
      "\n",
      "    Here are teh instructions for the function:\n",
      "    step1: pass a list in as a parameter\n",
      "    step2: ....profit?\n",
      "    \n",
      "Help on function print_names in module __main__:\n",
      "\n",
      "print_names(arr)\n",
      "    print_names(arr)\n",
      "    Function requires a list to be passed in as an argument\n",
      "    It will print the contents of the list that should be strings.\n",
      "    It is a really nice function and I am proud of it. Great Job, function\n",
      "\n"
     ]
    }
   ],
   "source": [
    "# docstrings are a really nice way to leave notes about funciontality in your code\n",
    "# provide instructions\n",
    "\n",
    "def print_names(arr):\n",
    "    \"\"\"\n",
    "    print_names(arr)\n",
    "    Function requires a list to be passed in as an argument\n",
    "    It will print the contents of the list that should be strings.\n",
    "    It is a really nice function and I am proud of it. Great Job, function\n",
    "    \"\"\"\n",
    "    \n",
    "    # loop through list of names and print them\n",
    "    for name in arr:\n",
    "        print(name)\n",
    "        \n",
    "    print(\"\"\"\n",
    "    Here are teh instructions for the function:\n",
    "    step1: pass a list in as a parameter\n",
    "    step2: ....profit?\n",
    "    \"\"\")\n",
    "    \n",
    "    return \"Wow would ya look at all thoese beauitful names!\"\n",
    "\n",
    "print_names([\"Alex\", \"Saraa\", \"Ed\", \"Hussain\", \"Gus\", \"Sam\", \"marc\"])\n",
    "\n",
    "help(print_names)\n",
    "\n",
    "# A docstring can be printed out to the user \n",
    "# You can also type help(function name) in order to get that docstring to print out to the user\n",
    "    "
   ]
  },
  {
   "cell_type": "markdown",
   "metadata": {},
   "source": [
    "##### Using a User Function in a Loop"
   ]
  },
  {
   "cell_type": "code",
   "execution_count": 28,
   "metadata": {},
   "outputs": [
    {
     "name": "stdout",
     "output_type": "stream",
     "text": [
      "What's going on?i cry \n",
      "I say hey yay i cry \n",
      "Are you ready to quit? no\n",
      "What's going on?nothing\n",
      "I say hey yay nothing\n",
      "Are you ready to quit? yes\n"
     ]
    }
   ],
   "source": [
    "def print_input(suggestion):\n",
    "    return f\"I say hey yay {suggestion}\"\n",
    "    \n",
    "while True:\n",
    "    ask = input(\"What's going on?\")\n",
    "\n",
    "    print(print_input(ask))\n",
    "\n",
    "    response = input(\"Are you ready to quit? \")\n",
    "    if response.lower() == \"yes\":\n",
    "        break"
   ]
  },
  {
   "cell_type": "code",
   "execution_count": 29,
   "metadata": {},
   "outputs": [
    {
     "name": "stdout",
     "output_type": "stream",
     "text": [
      "whats going on?nothing\n",
      "Are you ready to quit?no\n",
      "whats going on?yes\n",
      "Are you ready to quit?no\n",
      "whats going on?yes\n",
      "Are you ready to quit?yes\n",
      "have a nice time\n"
     ]
    }
   ],
   "source": [
    "# the better way!!\n",
    "\n",
    "def print_input(suggestion):\n",
    "    return f\"I say heyeyeyeye {suggestion}\"\n",
    "    \n",
    "    \n",
    "    \n",
    "def take_suggestion():\n",
    "    \n",
    "    while True:\n",
    "        ask = input(\"whats going on?\")\n",
    "        \n",
    "        print_input(ask)\n",
    "        \n",
    "        response = input(\"Are you ready to quit?\")\n",
    "        if response.lower() == 'yes':\n",
    "            print(\"have a nice time\")\n",
    "            break\n",
    "        \n",
    "    return\n",
    "    \n",
    "take_suggestion()"
   ]
  },
  {
   "cell_type": "markdown",
   "metadata": {},
   "source": [
    "## Function Exercises <br>\n",
    "### Exercise 1\n",
    "<p>Write a function that loops through a list of first_names and a list of last_names, combines the two and return a list of full_names</p>"
   ]
  },
  {
   "cell_type": "code",
   "execution_count": 30,
   "metadata": {},
   "outputs": [
    {
     "data": {
      "text/plain": [
       "['John Smith', 'Evan Smith', 'Jordan Williams', 'Max Bell']"
      ]
     },
     "execution_count": 30,
     "metadata": {},
     "output_type": "execute_result"
    }
   ],
   "source": [
    "first_name = ['John', 'Evan', 'Jordan', 'Max']\n",
    "last_name = ['Smith', 'Smith', 'Williams', 'Bell']\n",
    "\n",
    "# Output: ['John Smith', 'Evan Smith', 'Jordan Williams', 'Max Bell']\n",
    "\n",
    "# def combine(first_names, last_names):\n",
    "#     full_name = []\n",
    "#     for first_name in first_names:\n",
    "        \n",
    "def full_name(first_name, last_name):\n",
    "    return [first_name[i] + \" \" + last_name[i] for i in range(len(first_name))]\n",
    "\n",
    "full_name(first_name, last_name)\n",
    "        "
   ]
  },
  {
   "cell_type": "markdown",
   "metadata": {},
   "source": [
    "### Exercise 2\n",
    "Create a function that alters all values in the given list by subtracting 5 and then doubling them."
   ]
  },
  {
   "cell_type": "code",
   "execution_count": 49,
   "metadata": {},
   "outputs": [
    {
     "data": {
      "text/plain": [
       "[0, 10, 20, 30, -4]"
      ]
     },
     "execution_count": 49,
     "metadata": {},
     "output_type": "execute_result"
    }
   ],
   "source": [
    "input_list = [5,10,15,20,3]\n",
    "# output = [0,10,20,30,-4]\n",
    "\n",
    "def do_math(input_list):\n",
    "    new_list = []\n",
    "    for num in input_list:\n",
    "        new = (num - 5) * 2\n",
    "        new_list.append(new)\n",
    "    return new_list\n",
    "\n",
    "do_math(input_list)\n",
    "\n",
    "def do_math2(input_list):\n",
    "    new_list = []\n",
    "    for num in input_list:\n",
    "        new_list.append((num - 5) * 2)\n",
    "    return new_list\n",
    "\n",
    "do_math2(input_list)"
   ]
  },
  {
   "cell_type": "markdown",
   "metadata": {},
   "source": [
    "### Exercise 3\n",
    "Create a function that takes in a list of strings and filters out the strings that DO NOT contain vowels. "
   ]
  },
  {
   "cell_type": "code",
   "execution_count": 54,
   "metadata": {},
   "outputs": [
    {
     "data": {
      "text/plain": [
       "['Sheldon', 'Leonard', 'Amy']"
      ]
     },
     "execution_count": 54,
     "metadata": {},
     "output_type": "execute_result"
    }
   ],
   "source": [
    "string_list = ['Sheldon','Pnny','Leonard','Hwrd','Rj','Amy','Strt']\n",
    "# output = ['Sheldon','Leonard','Amy']\n",
    "\n",
    "# def no_vowels(string_list):\n",
    "#     vowels = ['a', 'e', 'i', 'o', 'u']\n",
    "#     new_list = []\n",
    "#     for name in arr:\n",
    "#         for vowel in vowels:\n",
    "#             if vowel in name.lower():\n",
    "#                 new_list.append(name)\n",
    "#                 break\n",
    "#     return new_list\n",
    "\n",
    "# no_vowels(string_list)\n",
    "\n",
    "def vowels_only(arr):\n",
    "    vowels = ['a', 'e', 'i', 'o', 'u']\n",
    "    new_list = []\n",
    "    for name in arr:\n",
    "        for vowel in vowels:\n",
    "            if vowel in name.lower():\n",
    "                new_list.append(name)\n",
    "                break\n",
    "                \n",
    "        \n",
    "        \n",
    "    return new_list\n",
    "\n",
    "vowels_only(string_list)\n",
    "                "
   ]
  },
  {
   "cell_type": "code",
   "execution_count": null,
   "metadata": {},
   "outputs": [],
   "source": []
  },
  {
   "cell_type": "code",
   "execution_count": null,
   "metadata": {},
   "outputs": [],
   "source": []
  },
  {
   "cell_type": "markdown",
   "metadata": {},
   "source": [
    "### Exercise 4\n",
    "Create a function that accepts a list as a parameter and returns a dictionary containing the list items as it's keys, and the number of times they appear in the list as the values"
   ]
  },
  {
   "cell_type": "code",
   "execution_count": null,
   "metadata": {},
   "outputs": [],
   "source": [
    "example_list = [\"Harry\", 'Hermione','Harry','Ron','Dobby','Draco','Luna','Harry','Hermione','Ron','Ron','Ron']\n",
    "\n",
    "# output = {\n",
    "#     \"Harry\":3,\n",
    "#     \"Hermione\":2,\n",
    "#     \"Ron\":4,\n",
    "#     \"Dobby\":1,\n",
    "#     \"Draco\":1,\n",
    "#     \"Luna\": 1\n",
    "# }\n",
    "\n",
    "def hogwarts(arr):\n",
    "    students = {}\n",
    "    for i in arr:\n",
    "        if i not in students:\n",
    "            students[i] = 1\n",
    "        else:\n",
    "            students[i] += 1\n",
    "    return students\n",
    "\n",
    "hogwarts(example_list)\n",
    "\n"
   ]
  },
  {
   "cell_type": "markdown",
   "metadata": {},
   "source": [
    "\n",
    "\n",
    "## Scope <br>\n",
    "<p>Scope refers to the ability to access variables, different types of scope include:<br>a) Global<br>b) Function (local)<br>c) Class (local)</p>"
   ]
  },
  {
   "cell_type": "code",
   "execution_count": null,
   "metadata": {},
   "outputs": [],
   "source": [
    "# placement of variable declaration matters\n",
    "number = 3 # <-- global variable\n",
    "# its not confined to a function or class\n",
    "\n",
    "def print_num():\n",
    "    return number\n",
    "\n",
    "def say_hello_num():\n",
    "    return f\"Hello {number}\"\n",
    "\n",
    "print(print_num())\n",
    "\n",
    "print(say_hello_num())\n",
    "\n",
    "\n",
    "print(num1)"
   ]
  },
  {
   "cell_type": "code",
   "execution_count": 58,
   "metadata": {},
   "outputs": [
    {
     "name": "stdout",
     "output_type": "stream",
     "text": [
      "[4, 9, 16, 25, 36]\n"
     ]
    },
    {
     "ename": "NameError",
     "evalue": "name 'squared_list' is not defined",
     "output_type": "error",
     "traceback": [
      "\u001b[1;31m---------------------------------------------------------------------------\u001b[0m",
      "\u001b[1;31mNameError\u001b[0m                                 Traceback (most recent call last)",
      "Cell \u001b[1;32mIn[58], line 11\u001b[0m\n\u001b[0;32m      8\u001b[0m \u001b[38;5;28;01mdef\u001b[39;00m \u001b[38;5;21msteal_squared\u001b[39m():\n\u001b[0;32m      9\u001b[0m     \u001b[38;5;28;01mreturn\u001b[39;00m squared_list\n\u001b[1;32m---> 11\u001b[0m \u001b[43msteal_squared\u001b[49m\u001b[43m(\u001b[49m\u001b[43m)\u001b[49m\n",
      "Cell \u001b[1;32mIn[58], line 9\u001b[0m, in \u001b[0;36msteal_squared\u001b[1;34m()\u001b[0m\n\u001b[0;32m      8\u001b[0m \u001b[38;5;28;01mdef\u001b[39;00m \u001b[38;5;21msteal_squared\u001b[39m():\n\u001b[1;32m----> 9\u001b[0m     \u001b[38;5;28;01mreturn\u001b[39;00m \u001b[43msquared_list\u001b[49m\n",
      "\u001b[1;31mNameError\u001b[0m: name 'squared_list' is not defined"
     ]
    }
   ],
   "source": [
    "def square_nums(arr):\n",
    "    squared_list = []    # this is scoped locally to the function\n",
    "    \n",
    "    for num in arr:\n",
    "        squared_list.append(num**2)\n",
    "    return squared_list\n",
    "print(square_nums([2, 3, 4, 5, 6]))\n",
    "def steal_squared():\n",
    "    return squared_list\n",
    "\n",
    "steal_squared()\n",
    "\n",
    "# this will lead to an error"
   ]
  },
  {
   "cell_type": "markdown",
   "metadata": {},
   "source": [
    "## Modules"
   ]
  },
  {
   "cell_type": "markdown",
   "metadata": {},
   "source": [
    "##### Importing Entire Modules\n"
   ]
  },
  {
   "cell_type": "code",
   "execution_count": 60,
   "metadata": {},
   "outputs": [
    {
     "name": "stdout",
     "output_type": "stream",
     "text": [
      "2\n",
      "3.141592653589793\n",
      "4\n"
     ]
    }
   ],
   "source": [
    "## Modules\n",
    "import math\n",
    "\n",
    "num = 5\n",
    "num = 2\n",
    "\n",
    "print(math.ceil(3/2))    # call the module name and then . and the method we are using\n",
    "\n",
    "print(math.pi)\n",
    "\n",
    "print(math.ceil(math.pi))"
   ]
  },
  {
   "cell_type": "markdown",
   "metadata": {},
   "source": [
    "##### Importing Methods Only"
   ]
  },
  {
   "cell_type": "code",
   "execution_count": 61,
   "metadata": {},
   "outputs": [
    {
     "name": "stdout",
     "output_type": "stream",
     "text": [
      "3.141592653589793\n",
      "3\n",
      "4\n"
     ]
    }
   ],
   "source": [
    "# from xxx import yyy\n",
    "#from math import floor\n",
    "\n",
    "from math import floor, pi, ceil\n",
    "\n",
    "print(pi)\n",
    "print(floor(pi))\n",
    "print(ceil(pi))"
   ]
  },
  {
   "cell_type": "markdown",
   "metadata": {},
   "source": [
    "##### Using the 'as' Keyword"
   ]
  },
  {
   "cell_type": "code",
   "execution_count": 62,
   "metadata": {},
   "outputs": [
    {
     "name": "stdout",
     "output_type": "stream",
     "text": [
      "3.141592653589793\n",
      "4\n",
      "3\n"
     ]
    }
   ],
   "source": [
    "# from xxx import yyy as z\n",
    "\n",
    "from math import floor as f, pi as p, ceil as c\n",
    "\n",
    "print(p)\n",
    "print(c(p))\n",
    "print(f(p))\n"
   ]
  },
  {
   "cell_type": "markdown",
   "metadata": {},
   "source": [
    "##### Creating a Module"
   ]
  },
  {
   "cell_type": "code",
   "execution_count": 63,
   "metadata": {},
   "outputs": [
    {
     "name": "stdout",
     "output_type": "stream",
     "text": [
      "Hello Mr/Ms Ryan...we've been waiting for you!\n"
     ]
    }
   ],
   "source": [
    "from module import printName as pn    # the code for this module is in the same folder\n",
    "\n",
    "pn('Ryan')\n"
   ]
  },
  {
   "cell_type": "markdown",
   "metadata": {},
   "source": [
    "# Homework Exercises"
   ]
  },
  {
   "cell_type": "markdown",
   "metadata": {},
   "source": [
    "### 1) Create a Module in VS Code and Import It into jupyter notebook <br>\n",
    "<p><b>Module should have the following capabilities:</b><br><br>\n",
    "1a) Has a function to calculate the square footage of a house <br>\n",
    "    <b>Reminder of Formula: Length X Width == Area</b><br>\n",
    "        <hr>\n",
    "1b) Has a function to calculate the circumference of a circle 2 Pi r <br><br>\n",
    "<b>Program in Jupyter Notebook should take in user input and use imported functions to calculate a circle's circumference or a houses square footage</b>\n",
    "</p>"
   ]
  },
  {
   "cell_type": "code",
   "execution_count": 6,
   "metadata": {},
   "outputs": [
    {
     "name": "stdout",
     "output_type": "stream",
     "text": [
      "What is the length of the house? 3\n",
      "What is the width of the house? 2\n",
      "\n",
      "\n",
      "The square footage is: 6\n",
      "\n",
      "\n",
      "What is the radius of the circle? 3\n",
      "\n",
      "\n",
      "The circumference of the circle is: 18.84955592153876\n"
     ]
    }
   ],
   "source": [
    "from calculate import square_footage as sq, circumference as circ\n",
    "\n",
    "l = int(input(\"What is the length of the house? \"))\n",
    "w = int(input(\"What is the width of the house? \"))\n",
    "\n",
    "\n",
    "print(\"\\n\")\n",
    "print(f\"The square footage is: {sq(l, w)}\")\n",
    "\n",
    "print(\"\\n\")\n",
    "r = int(input(\"What is the radius of the circle? \"))\n",
    "\n",
    "\n",
    "print(\"\\n\")\n",
    "print(f\"The circumference of the circle is: {circ(r)}\")"
   ]
  },
  {
   "cell_type": "markdown",
   "metadata": {},
   "source": [
    "### 2) Build a Shopping Cart Function <br>\n",
    "<p><b>You can use either lists or dictionaries. The program should have the following capabilities:</b><br><br>\n",
    "1) Takes in input <br>\n",
    "2) Stores user input into a dictionary or list <br>\n",
    "3) The User can add or delete items <br>\n",
    "4) The User can see current shopping list <br>\n",
    "5) The program Loops until user 'quits' <br>\n",
    "6) Upon quiting the program, print out all items in the user's list <br>\n",
    "</p>"
   ]
  },
  {
   "cell_type": "code",
   "execution_count": 13,
   "metadata": {},
   "outputs": [
    {
     "name": "stdout",
     "output_type": "stream",
     "text": [
      "Your Shopping Cart\n",
      "Food: potates     Quantity: 2 lb\n"
     ]
    }
   ],
   "source": [
    "from IPython.display import clear_output\n",
    "\n",
    "# Ask the user four bits of input: Do you want to : Show/Add/Delete or Quit?\n",
    "\n",
    "def shopping_cart():\n",
    "    cart = {}\n",
    "    \n",
    "    while True:\n",
    "#         step 1\n",
    "        main = input(\"Do you want to: Show, Add, Delete, or Quit? \")\n",
    "        clear_output()\n",
    "#     step 4\n",
    "        if main.lower() == \"show\":\n",
    "            clear_output()\n",
    "            print(\"Your Shopping Cart\")\n",
    "            for food, quantity in cart.items():\n",
    "                print(f\"Food: {food}     Quantity: {quantity}\")\n",
    "#                 step 3a\n",
    "        elif main.lower() == \"add\":\n",
    "            clear_output()\n",
    "            food = input(\"What food do you want to add? \")\n",
    "            quantity = input(\"How much do you need of that? \")\n",
    "#             step 2\n",
    "            cart[food] = quantity\n",
    "#     step 3b\n",
    "        elif main.lower() == \"delete\":\n",
    "            print(\"Your Shopping Cart\")\n",
    "            for food, quantity in cart.items():\n",
    "                print(f\"Food: {food}     Quantity: {quantity}\")\n",
    "            food = input(\"What food do you want to delete? \")\n",
    "            del cart[food]\n",
    "#             step 5\n",
    "        elif main.lower() == \"quit\":\n",
    "            clear_output()\n",
    "            break\n",
    "        else:\n",
    "            print(\"Please type one of these 4 words: Show, Add, Delete, or Quit\")\n",
    "            continue\n",
    "#   step 6\n",
    "    print(\"Your Shopping Cart\")\n",
    "    for food, quantity in cart.items():\n",
    "        print(f\"Food: {food}     Quantity: {quantity}\")\n",
    "\n",
    "            \n",
    "shopping_cart()\n",
    "            \n",
    "            \n",
    "            "
   ]
  }
 ],
 "metadata": {
  "kernelspec": {
   "display_name": "Python 3 (ipykernel)",
   "language": "python",
   "name": "python3"
  },
  "language_info": {
   "codemirror_mode": {
    "name": "ipython",
    "version": 3
   },
   "file_extension": ".py",
   "mimetype": "text/x-python",
   "name": "python",
   "nbconvert_exporter": "python",
   "pygments_lexer": "ipython3",
   "version": "3.10.11"
  }
 },
 "nbformat": 4,
 "nbformat_minor": 2
}
